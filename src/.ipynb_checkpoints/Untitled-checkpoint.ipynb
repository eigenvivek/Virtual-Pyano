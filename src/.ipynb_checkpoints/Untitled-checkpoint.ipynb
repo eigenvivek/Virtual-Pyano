{
 "cells": [
  {
   "cell_type": "code",
   "execution_count": 61,
   "metadata": {},
   "outputs": [],
   "source": [
    "class Piano:\n",
    "    \n",
    "    # Step values\n",
    "    R = 0 # Root\n",
    "    H = 1 # Half step\n",
    "    W = 2 # Whole step\n",
    "    B = 3 # 'Big' 1.5 step\n",
    "    \n",
    "    note = ['C', 'C#', 'D', 'D#', 'E', 'F', 'F#', 'G', 'G#', 'A', 'A#', 'B']\n",
    "    \n",
    "    interval_relations = {\n",
    "        'major': [R, W, W, H, W, W, W, H],\n",
    "        'natural_minor': [R, W, H, W, W, H, W, W],\n",
    "        'harmonic_minor': [R, W, H, W, W, H, B, H],\n",
    "        'dorian': [R, W, H, W, W, W, H, W],\n",
    "        'mixolydian': [R, W, W, H, W, W, H, W],\n",
    "        'ahava_raba': [R, H, B, H, W, H, W, W],\n",
    "        'minor_pent': [R, B, W, W, B, W]\n",
    "    }\n",
    "    \n",
    "    \n",
    "    def __init__(self, root, mode):\n",
    "        \n",
    "        self.root = root\n",
    "        self.mode = mode\n",
    "        \n",
    "    def make_scale(self):\n",
    "        \n",
    "        # Find the starting index of the scale\n",
    "        start = note.index(self.root)\n",
    "        \n",
    "        # Reorder the set of notes such that the root is index 0\n",
    "        reordered = note[start:] + note[:start]\n",
    "        \n",
    "        # Return the scale formula based on the mode requested by the user\n",
    "        formula = interval_relations[self.mode]\n",
    "        \n",
    "        # Construct the new scale\n",
    "        scale = []\n",
    "        next_note = 0\n",
    "        \n",
    "        for i in range(len(formula)):\n",
    "            next_note += formula[i]\n",
    "            scale.append(reordered[next_note])\n",
    "            \n",
    "            \n",
    "            print formula[i],next_note\n",
    "            \n",
    "        return scale"
   ]
  },
  {
   "cell_type": "code",
   "execution_count": 62,
   "metadata": {},
   "outputs": [],
   "source": [
    "piano = Piano('C', 'major')"
   ]
  },
  {
   "cell_type": "code",
   "execution_count": 63,
   "metadata": {},
   "outputs": [
    {
     "data": {
      "text/plain": [
       "[0, 2, 2, 1, 2, 2, 2, 1]"
      ]
     },
     "execution_count": 63,
     "metadata": {},
     "output_type": "execute_result"
    }
   ],
   "source": [
    "interval_relations['major']"
   ]
  },
  {
   "cell_type": "code",
   "execution_count": 64,
   "metadata": {},
   "outputs": [
    {
     "name": "stdout",
     "output_type": "stream",
     "text": [
      "0 0\n",
      "2 2\n",
      "2 4\n",
      "1 5\n",
      "2 7\n",
      "2 9\n",
      "2 11\n"
     ]
    },
    {
     "ename": "IndexError",
     "evalue": "list index out of range",
     "output_type": "error",
     "traceback": [
      "\u001b[0;31m---------------------------------------------------------------------------\u001b[0m",
      "\u001b[0;31mIndexError\u001b[0m                                Traceback (most recent call last)",
      "\u001b[0;32m<ipython-input-64-fb375ea8957a>\u001b[0m in \u001b[0;36m<module>\u001b[0;34m()\u001b[0m\n\u001b[0;32m----> 1\u001b[0;31m \u001b[0mpiano\u001b[0m\u001b[0;34m.\u001b[0m\u001b[0mmake_scale\u001b[0m\u001b[0;34m(\u001b[0m\u001b[0;34m)\u001b[0m\u001b[0;34m\u001b[0m\u001b[0m\n\u001b[0m",
      "\u001b[0;32m<ipython-input-61-0f9ca0f970df>\u001b[0m in \u001b[0;36mmake_scale\u001b[0;34m(self)\u001b[0m\n\u001b[1;32m     42\u001b[0m         \u001b[0;32mfor\u001b[0m \u001b[0mi\u001b[0m \u001b[0;32min\u001b[0m \u001b[0mrange\u001b[0m\u001b[0;34m(\u001b[0m\u001b[0mlen\u001b[0m\u001b[0;34m(\u001b[0m\u001b[0mformula\u001b[0m\u001b[0;34m)\u001b[0m\u001b[0;34m)\u001b[0m\u001b[0;34m:\u001b[0m\u001b[0;34m\u001b[0m\u001b[0m\n\u001b[1;32m     43\u001b[0m             \u001b[0mnext_note\u001b[0m \u001b[0;34m+=\u001b[0m \u001b[0mformula\u001b[0m\u001b[0;34m[\u001b[0m\u001b[0mi\u001b[0m\u001b[0;34m]\u001b[0m\u001b[0;34m\u001b[0m\u001b[0m\n\u001b[0;32m---> 44\u001b[0;31m             \u001b[0mscale\u001b[0m\u001b[0;34m.\u001b[0m\u001b[0mappend\u001b[0m\u001b[0;34m(\u001b[0m\u001b[0mreordered\u001b[0m\u001b[0;34m[\u001b[0m\u001b[0mnext_note\u001b[0m\u001b[0;34m]\u001b[0m\u001b[0;34m)\u001b[0m\u001b[0;34m\u001b[0m\u001b[0m\n\u001b[0m\u001b[1;32m     45\u001b[0m \u001b[0;34m\u001b[0m\u001b[0m\n\u001b[1;32m     46\u001b[0m \u001b[0;34m\u001b[0m\u001b[0m\n",
      "\u001b[0;31mIndexError\u001b[0m: list index out of range"
     ]
    }
   ],
   "source": [
    "piano.make_scale()"
   ]
  },
  {
   "cell_type": "code",
   "execution_count": null,
   "metadata": {
    "collapsed": true
   },
   "outputs": [],
   "source": []
  },
  {
   "cell_type": "code",
   "execution_count": null,
   "metadata": {
    "collapsed": true
   },
   "outputs": [],
   "source": []
  }
 ],
 "metadata": {
  "kernelspec": {
   "display_name": "Python 2",
   "language": "python",
   "name": "python2"
  },
  "language_info": {
   "codemirror_mode": {
    "name": "ipython",
    "version": 2
   },
   "file_extension": ".py",
   "mimetype": "text/x-python",
   "name": "python",
   "nbconvert_exporter": "python",
   "pygments_lexer": "ipython2",
   "version": "2.7.13"
  }
 },
 "nbformat": 4,
 "nbformat_minor": 2
}
